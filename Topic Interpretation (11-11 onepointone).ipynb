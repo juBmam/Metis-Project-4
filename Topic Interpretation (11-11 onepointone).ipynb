{
 "cells": [
  {
   "cell_type": "code",
   "execution_count": 1,
   "metadata": {},
   "outputs": [],
   "source": [
    "import csv\n",
    "import pandas as pd\n",
    "import re\n",
    "import string\n",
    "import warnings\n",
    "warnings.filterwarnings('ignore')\n",
    "\n",
    "from sklearn.feature_extraction.text import CountVectorizer, TfidfVectorizer, ENGLISH_STOP_WORDS\n",
    "from nltk.tokenize import TreebankWordTokenizer\n",
    "from nltk.stem import PorterStemmer\n",
    "from sklearn.decomposition import LatentDirichletAllocation, NMF\n",
    "\n",
    "from sklearn.cluster import KMeans\n",
    "from sklearn.decomposition import PCA\n",
    "from sklearn.metrics import silhouette_score, adjusted_rand_score\n",
    "from sklearn.pipeline import Pipeline\n",
    "from sklearn.preprocessing import LabelEncoder, MinMaxScaler\n",
    "\n",
    "import logging\n",
    "logging.basicConfig(format='%(asctime)s : %(levelname)s : %(message)s', level=logging.INFO)"
   ]
  },
  {
   "cell_type": "code",
   "execution_count": 2,
   "metadata": {},
   "outputs": [
    {
     "data": {
      "text/plain": [
       "NMF(n_components=10)"
      ]
     },
     "execution_count": 2,
     "metadata": {},
     "output_type": "execute_result"
    }
   ],
   "source": [
    "df = pd.read_csv('genshintwitteronepointone.csv')\n",
    "df = df.drop(columns = ['Unnamed: 0', 'outlinks', 'tcooutlinks'])\n",
    "\n",
    "alphanumeric = lambda x: re.sub('\\w*\\d\\w*', ' ', x)\n",
    "punc_lower = lambda x: re.sub('[%s]' % re.escape(string.punctuation), ' ', x.lower())\n",
    "\n",
    "def cleanurlhashtags(input):\n",
    "\n",
    "    text = re.sub(r\"http\\S+\", \"\", input)\n",
    "    text = re.sub(r\"#\\S+\", \"\", text)\n",
    "    return text\n",
    "\n",
    "def tostring(input):\n",
    "    return str(input)\n",
    "\n",
    "df['content'] = df['content'].apply(tostring)\n",
    "df['content'] = df['content'].apply(cleanurlhashtags)\n",
    "df['content'] = df['content'].map(alphanumeric).map(punc_lower)\n",
    "df['content'] = df['content'].fillna(value='')\n",
    "\n",
    "content = df['content'].to_list()\n",
    "\n",
    "tfidf = TfidfVectorizer(stop_words=ENGLISH_STOP_WORDS)\n",
    "\n",
    "tweet_word_matrix = tfidf.fit_transform(content)\n",
    "\n",
    "vocab = tfidf.get_feature_names()\n",
    "\n",
    "nmf = NMF(n_components=10)\n",
    "\n",
    "nmf.fit(tweet_word_matrix)"
   ]
  },
  {
   "cell_type": "code",
   "execution_count": 17,
   "metadata": {},
   "outputs": [
    {
     "data": {
      "text/plain": [
       "finally      1.676979\n",
       "got          1.307194\n",
       "mona         0.225856\n",
       "star         0.170788\n",
       "good         0.111242\n",
       "character    0.111159\n",
       "wish         0.089657\n",
       "finished     0.078160\n",
       "pull         0.075772\n",
       "pulls        0.064790\n",
       "Name: topic_9, dtype: float64"
      ]
     },
     "execution_count": 17,
     "metadata": {},
     "output_type": "execute_result"
    }
   ],
   "source": [
    "tweet_topic_matrix = nmf.transform(tweet_word_matrix)\n",
    "tweet_topic_matrix_df = pd.DataFrame(tweet_topic_matrix).add_prefix('topic_')\n",
    "tweet_topic_matrix_df['content'] = df['content']\n",
    "\n",
    "word_topic_matrix_df = pd.DataFrame(nmf.components_, columns=vocab).T.add_prefix('topic_')\n",
    "\n",
    "def top_words(word_topic_matrix_df, topic, n_words):\n",
    "    return (word_topic_matrix_df\n",
    "            .sort_values(by=topic, ascending=False)\n",
    "            .head(n_words))[topic]\n",
    "\n",
    "top_words(word_topic_matrix_df, 'topic_9', 10)"
   ]
  },
  {
   "cell_type": "markdown",
   "metadata": {},
   "source": [
    "Number : Topic  \n",
    "0 : Youtube Streaming impact-genshin-youtube  \n",
    "1 : Featured Rare Characters childe-zhongli-tartaglia  \n",
    "2 : Twitch Streaming live-going-twitch  \n",
    "3 : General Appreciation diluc-kaeya-drawing  \n",
    "4 : Reddit Links genshinimpact-genshinmemepact-genshin  \n",
    "5 : Character Appreciation love-kaeya-man  \n",
    "6 : General Streaming come-say-hi  \n",
    "7 : Successful Gacha got-cute-klee  \n",
    "8 : Video Upload new-video-check  \n",
    "9 : Successful Featured Gacha finally-got-mona"
   ]
  },
  {
   "cell_type": "code",
   "execution_count": null,
   "metadata": {},
   "outputs": [],
   "source": []
  }
 ],
 "metadata": {
  "kernelspec": {
   "display_name": "Python 3",
   "language": "python",
   "name": "python3"
  },
  "language_info": {
   "codemirror_mode": {
    "name": "ipython",
    "version": 3
   },
   "file_extension": ".py",
   "mimetype": "text/x-python",
   "name": "python",
   "nbconvert_exporter": "python",
   "pygments_lexer": "ipython3",
   "version": "3.8.5"
  }
 },
 "nbformat": 4,
 "nbformat_minor": 4
}
