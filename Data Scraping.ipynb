{
 "cells": [
  {
   "cell_type": "code",
   "execution_count": 13,
   "metadata": {},
   "outputs": [],
   "source": [
    "import tweepy\n",
    "import csv\n",
    "import json\n",
    "import pandas as pd"
   ]
  },
  {
   "cell_type": "code",
   "execution_count": 14,
   "metadata": {},
   "outputs": [],
   "source": [
    "ACCESS_TOKEN = '1321858138023239680-7UdKz5PUGSdnfO47z9rhkNAjBQLdPu'\n",
    "ACCESS_SECRET = '7smY7U8pO3kdXFE86zEBITThnXck36o8yFB4cwmq4HpEa'\n",
    "CONSUMER_KEY = 'RETSSEhqY1rzmVNTmcReCXvTw'\n",
    "CONSUMER_SECRET = '65FAP3oR9hYbCdx3yCkE2Uxf7Y6ehaSkhya1NJM8DXvBAVrQho'\n",
    "\n",
    "\n",
    "def connect_to_twitter_OAuth():\n",
    "    auth = tweepy.OAuthHandler(CONSUMER_KEY, CONSUMER_SECRET)\n",
    "    auth.set_access_token(ACCESS_TOKEN, ACCESS_SECRET)\n",
    "\n",
    "    api = tweepy.API(auth)\n",
    "    return api\n",
    "\n",
    "\n",
    "api = connect_to_twitter_OAuth()\n",
    "\n",
    "# corresponding terminal code: snscrape --jsonl --max-results 200000 twitter-hashtag genshinimpact > genshintwitternew.json\n",
    "# reminder that nearly half of the tweets aren't in english so double the quantity that you want"
   ]
  },
  {
   "cell_type": "code",
   "execution_count": 15,
   "metadata": {},
   "outputs": [],
   "source": [
    "table = []\n",
    "\n",
    "with open('genshintwitteronepointone.json', 'r') as f:\n",
    "    for line in f:\n",
    "        table.append(json.loads(line))\n",
    "\n",
    "df = pd.DataFrame.from_records(table)"
   ]
  },
  {
   "cell_type": "code",
   "execution_count": 16,
   "metadata": {},
   "outputs": [],
   "source": [
    "df = df.drop(columns=['url','id','conversationId', 'source', 'sourceUrl', 'sourceLabel', 'media', 'retweetedTweet', 'quotedTweet', 'mentionedUsers'])"
   ]
  },
  {
   "cell_type": "code",
   "execution_count": 17,
   "metadata": {},
   "outputs": [],
   "source": [
    "mask = (df['lang'] == 'en')\n",
    "df = df[mask]"
   ]
  },
  {
   "cell_type": "code",
   "execution_count": 18,
   "metadata": {},
   "outputs": [],
   "source": [
    "df.to_csv('genshintwitteronepointone.csv')"
   ]
  },
  {
   "cell_type": "code",
   "execution_count": null,
   "metadata": {},
   "outputs": [],
   "source": []
  }
 ],
 "metadata": {
  "kernelspec": {
   "display_name": "Python 3",
   "language": "python",
   "name": "python3"
  },
  "language_info": {
   "codemirror_mode": {
    "name": "ipython",
    "version": 3
   },
   "file_extension": ".py",
   "mimetype": "text/x-python",
   "name": "python",
   "nbconvert_exporter": "python",
   "pygments_lexer": "ipython3",
   "version": "3.8.5"
  }
 },
 "nbformat": 4,
 "nbformat_minor": 4
}
