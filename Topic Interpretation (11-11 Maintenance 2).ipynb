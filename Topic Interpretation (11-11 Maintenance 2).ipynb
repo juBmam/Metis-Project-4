{
 "cells": [
  {
   "cell_type": "code",
   "execution_count": 1,
   "metadata": {},
   "outputs": [],
   "source": [
    "import csv\n",
    "import pandas as pd\n",
    "import re\n",
    "import string\n",
    "import warnings\n",
    "warnings.filterwarnings('ignore')\n",
    "\n",
    "from sklearn.feature_extraction.text import CountVectorizer, TfidfVectorizer, ENGLISH_STOP_WORDS\n",
    "from nltk.tokenize import TreebankWordTokenizer\n",
    "from nltk.stem import PorterStemmer\n",
    "from sklearn.decomposition import LatentDirichletAllocation, NMF\n",
    "\n",
    "from sklearn.cluster import KMeans\n",
    "from sklearn.decomposition import PCA\n",
    "from sklearn.metrics import silhouette_score, adjusted_rand_score\n",
    "from sklearn.pipeline import Pipeline\n",
    "from sklearn.preprocessing import LabelEncoder, MinMaxScaler\n",
    "\n",
    "import logging\n",
    "logging.basicConfig(format='%(asctime)s : %(levelname)s : %(message)s', level=logging.INFO)"
   ]
  },
  {
   "cell_type": "code",
   "execution_count": 2,
   "metadata": {},
   "outputs": [
    {
     "data": {
      "text/plain": [
       "NMF(n_components=20)"
      ]
     },
     "execution_count": 2,
     "metadata": {},
     "output_type": "execute_result"
    }
   ],
   "source": [
    "df = pd.read_csv('genshintwittermaintenancetwo.csv')\n",
    "df = df.drop(columns = ['Unnamed: 0', 'outlinks', 'tcooutlinks'])\n",
    "\n",
    "alphanumeric = lambda x: re.sub('\\w*\\d\\w*', ' ', x)\n",
    "punc_lower = lambda x: re.sub('[%s]' % re.escape(string.punctuation), ' ', x.lower())\n",
    "\n",
    "def cleanurlhashtags(input):\n",
    "\n",
    "    text = re.sub(r\"http\\S+\", \"\", input)\n",
    "    text = re.sub(r\"#\\S+\", \"\", text)\n",
    "    return text\n",
    "\n",
    "def tostring(input):\n",
    "    return str(input)\n",
    "\n",
    "df['content'] = df['content'].apply(tostring)\n",
    "df['content'] = df['content'].apply(cleanurlhashtags)\n",
    "df['content'] = df['content'].map(alphanumeric).map(punc_lower)\n",
    "df['content'] = df['content'].fillna(value='')\n",
    "\n",
    "content = df['content'].to_list()\n",
    "\n",
    "tfidf = TfidfVectorizer(stop_words=ENGLISH_STOP_WORDS)\n",
    "\n",
    "tweet_word_matrix = tfidf.fit_transform(content)\n",
    "\n",
    "vocab = tfidf.get_feature_names()\n",
    "\n",
    "nmf = NMF(n_components=20)\n",
    "\n",
    "nmf.fit(tweet_word_matrix)"
   ]
  },
  {
   "cell_type": "code",
   "execution_count": 12,
   "metadata": {},
   "outputs": [
    {
     "data": {
      "text/plain": [
       "new           2.201351\n",
       "video         1.211820\n",
       "check         0.395956\n",
       "update        0.373818\n",
       "link          0.300728\n",
       "character     0.265892\n",
       "code          0.232046\n",
       "characters    0.168723\n",
       "coming        0.163754\n",
       "gt            0.142278\n",
       "Name: topic_9, dtype: float64"
      ]
     },
     "execution_count": 12,
     "metadata": {},
     "output_type": "execute_result"
    }
   ],
   "source": [
    "tweet_topic_matrix = nmf.transform(tweet_word_matrix)\n",
    "tweet_topic_matrix_df = pd.DataFrame(tweet_topic_matrix).add_prefix('topic_')\n",
    "tweet_topic_matrix_df['content'] = df['content']\n",
    "\n",
    "word_topic_matrix_df = pd.DataFrame(nmf.components_, columns=vocab).T.add_prefix('topic_')\n",
    "\n",
    "def top_words(word_topic_matrix_df, topic, n_words):\n",
    "    return (word_topic_matrix_df\n",
    "            .sort_values(by=topic, ascending=False)\n",
    "            .head(n_words))[topic]\n",
    "\n",
    "top_words(word_topic_matrix_df, 'topic_9', 10)"
   ]
  },
  {
   "cell_type": "markdown",
   "metadata": {},
   "source": [
    "Number : Topic  \n",
    "0 : Youtube Streaming impact-genshin-youtube  \n",
    "1 : Twitch Streaming live-going-twitch  \n",
    "2 : Successful Gacha got-happy-character  \n",
    "3 : Featured Rare Characters childe-zhongli-tartaglia  \n",
    "4 : Reddit Links genshinimpact-genshinmemepact-genshin   \n",
    "5 : Character Appreciation love-kaeya-man  \n",
    "6 : General Streaming come-say-hi  \n",
    "7 : Successful Gacha got-cute-klee  \n",
    "8 : General Appreciation diluc-kaeya-drawing  \n",
    "9 : Video Upload new-video-check"
   ]
  },
  {
   "cell_type": "code",
   "execution_count": null,
   "metadata": {},
   "outputs": [],
   "source": []
  }
 ],
 "metadata": {
  "kernelspec": {
   "display_name": "Python 3",
   "language": "python",
   "name": "python3"
  },
  "language_info": {
   "codemirror_mode": {
    "name": "ipython",
    "version": 3
   },
   "file_extension": ".py",
   "mimetype": "text/x-python",
   "name": "python",
   "nbconvert_exporter": "python",
   "pygments_lexer": "ipython3",
   "version": "3.8.5"
  }
 },
 "nbformat": 4,
 "nbformat_minor": 4
}
